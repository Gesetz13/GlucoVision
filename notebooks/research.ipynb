{
 "cells": [
  {
   "cell_type": "code",
   "execution_count": null,
   "id": "49131c57",
   "metadata": {},
   "outputs": [],
   "source": [
    "print(\"Ba Koko!\")"
   ]
  },
  {
   "cell_type": "code",
   "execution_count": null,
   "id": "8313b6c3",
   "metadata": {},
   "outputs": [],
   "source": []
  }
 ],
 "metadata": {
  "kernelspec": {
   "display_name": "venv",
   "language": "python",
   "name": "python3"
  },
  "language_info": {
   "name": "python",
   "version": "3.12.3"
  }
 },
 "nbformat": 4,
 "nbformat_minor": 5
}
